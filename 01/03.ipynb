{
 "cells": [
  {
   "cell_type": "markdown",
   "id": "9cedaa3a",
   "metadata": {},
   "source": [
    "# NumPy"
   ]
  },
  {
   "cell_type": "code",
   "execution_count": 1,
   "id": "a5adf4ea",
   "metadata": {},
   "outputs": [],
   "source": [
    "import numpy as np"
   ]
  },
  {
   "cell_type": "code",
   "execution_count": 2,
   "id": "a81b1dab",
   "metadata": {},
   "outputs": [
    {
     "name": "stdout",
     "output_type": "stream",
     "text": [
      "<class 'list'>\n",
      "<class 'numpy.ndarray'>\n"
     ]
    }
   ],
   "source": [
    "alist=[1,2,3,4,5,6,7,8,]\n",
    "print(type(alist))\n",
    "narray=np.array(alist)\n",
    "print(type(narray))"
   ]
  },
  {
   "cell_type": "code",
   "execution_count": 3,
   "id": "28f90c4d",
   "metadata": {},
   "outputs": [
    {
     "name": "stdout",
     "output_type": "stream",
     "text": [
      "[1, 2, 3, 4, 5, 6, 7, 8]\n",
      "[1 2 3 4 5 6 7 8]\n"
     ]
    }
   ],
   "source": [
    "print(alist)\n",
    "print(narray)"
   ]
  },
  {
   "cell_type": "code",
   "execution_count": 4,
   "id": "49aaaf34",
   "metadata": {},
   "outputs": [
    {
     "name": "stdout",
     "output_type": "stream",
     "text": [
      "[ 2  4  6  8 10 12 14 16]\n",
      "[1, 2, 3, 4, 5, 6, 7, 8, 1, 2, 3, 4, 5, 6, 7, 8]\n",
      "[ 3  6  9 12 15 18 21 24]\n",
      "[1, 2, 3, 4, 5, 6, 7, 8, 1, 2, 3, 4, 5, 6, 7, 8, 1, 2, 3, 4, 5, 6, 7, 8]\n"
     ]
    }
   ],
   "source": [
    "print(narray+narray) #Adds individual elements\n",
    "print(alist+alist)   #Concats the list \n",
    "print(narray*3)      #Multiplies to individual elements\n",
    "print(alist*3)       #Concates list 3 times"
   ]
  },
  {
   "cell_type": "code",
   "execution_count": 5,
   "id": "09d92003",
   "metadata": {},
   "outputs": [
    {
     "name": "stdout",
     "output_type": "stream",
     "text": [
      "[[1 2 3 4 5 6 7 8]\n",
      " [1 2 3 4 5 6 7 8]\n",
      " [1 2 3 4 5 6 7 8]]\n",
      "[[1 2 3 4 5 6 7 8]\n",
      " [1 2 3 4 5 6 7 8]\n",
      " [1 2 3 4 5 6 7 8]]\n"
     ]
    }
   ],
   "source": [
    "mat1=np.array([narray,narray,narray])\n",
    "mat2=np.array([alist,alist,alist])\n",
    "print(mat1)\n",
    "print(mat2)"
   ]
  },
  {
   "cell_type": "code",
   "execution_count": 6,
   "id": "1846c5a4",
   "metadata": {},
   "outputs": [
    {
     "name": "stdout",
     "output_type": "stream",
     "text": [
      "[[ 3  6]\n",
      " [ 9 12]]\n"
     ]
    }
   ],
   "source": [
    "okmat=np.array([[1,2],[3,4]]) #All rows should have same elements otherwise algebric operation might\n",
    "print(okmat*3)                #malform"
   ]
  },
  {
   "cell_type": "code",
   "execution_count": 7,
   "id": "4de232bf",
   "metadata": {},
   "outputs": [
    {
     "name": "stdout",
     "output_type": "stream",
     "text": [
      "[list([1, 2, 1, 2, 1, 2, 1, 2]) list([2, 3, 4, 2, 3, 4, 2, 3, 4, 2, 3, 4])]\n"
     ]
    },
    {
     "name": "stderr",
     "output_type": "stream",
     "text": [
      "<ipython-input-7-2d713981dff4>:1: VisibleDeprecationWarning: Creating an ndarray from ragged nested sequences (which is a list-or-tuple of lists-or-tuples-or ndarrays with different lengths or shapes) is deprecated. If you meant to do this, you must specify 'dtype=object' when creating the ndarray\n",
      "  badmat=np.array([[1,2],[2,3,4]])\n"
     ]
    }
   ],
   "source": [
    "badmat=np.array([[1,2],[2,3,4]])\n",
    "print(badmat*4)"
   ]
  },
  {
   "cell_type": "code",
   "execution_count": 8,
   "id": "115ae0c5",
   "metadata": {},
   "outputs": [
    {
     "name": "stdout",
     "output_type": "stream",
     "text": [
      "[[3 5]\n",
      " [7 9]]\n"
     ]
    }
   ],
   "source": [
    "res=okmat*2+1\n",
    "print(res)"
   ]
  },
  {
   "cell_type": "code",
   "execution_count": 9,
   "id": "4d271861",
   "metadata": {},
   "outputs": [
    {
     "name": "stdout",
     "output_type": "stream",
     "text": [
      "[[2 4]\n",
      " [6 8]]\n",
      "[[1 2]\n",
      " [3 4]]\n"
     ]
    }
   ],
   "source": [
    "res=okmat+okmat\n",
    "print(res)\n",
    "res=okmat-okmat\n",
    "print(okmat)"
   ]
  },
  {
   "cell_type": "code",
   "execution_count": 10,
   "id": "4bc55e63",
   "metadata": {},
   "outputs": [
    {
     "name": "stdout",
     "output_type": "stream",
     "text": [
      "[[ 1  4]\n",
      " [ 9 16]]\n"
     ]
    }
   ],
   "source": [
    "res=okmat*okmat\n",
    "print(res)"
   ]
  },
  {
   "cell_type": "code",
   "execution_count": 11,
   "id": "d09bc97c",
   "metadata": {},
   "outputs": [
    {
     "name": "stdout",
     "output_type": "stream",
     "text": [
      "[[1 3]\n",
      " [2 4]]\n"
     ]
    }
   ],
   "source": [
    "print(okmat.T) #Transpose of matrix"
   ]
  },
  {
   "cell_type": "code",
   "execution_count": 12,
   "id": "0abd92c2",
   "metadata": {},
   "outputs": [
    {
     "name": "stdout",
     "output_type": "stream",
     "text": [
      "[1 2 3 4]\n"
     ]
    }
   ],
   "source": [
    "narray=np.array([1,2,3,4])\n",
    "print(narray.T)  #Transpose doesnot affect 1D array"
   ]
  },
  {
   "cell_type": "markdown",
   "id": "071407b7",
   "metadata": {},
   "source": [
    "# Normalizing\n"
   ]
  },
  {
   "cell_type": "code",
   "execution_count": 13,
   "id": "47bc1428",
   "metadata": {},
   "outputs": [
    {
     "name": "stdout",
     "output_type": "stream",
     "text": [
      "5.477225575051661\n",
      "5.477225575051661\n"
     ]
    }
   ],
   "source": [
    "narray=np.array([1,2,3,4])\n",
    "normalized=np.linalg.norm(narray)\n",
    "print(normalized)\n",
    "\n",
    "nmat=np.array([[1,2],[3,4]])\n",
    "normalized=np.linalg.norm(nmat) #Treats matrix same as 1D array\n",
    "print(normalized)"
   ]
  },
  {
   "cell_type": "code",
   "execution_count": 14,
   "id": "3f879f52",
   "metadata": {},
   "outputs": [
    {
     "name": "stdout",
     "output_type": "stream",
     "text": [
      "38\n",
      "38\n",
      "38\n",
      "38\n"
     ]
    }
   ],
   "source": [
    "nparray1 = np.array([0, 1, 2, 3]) \n",
    "nparray2 = np.array([4, 5, 6, 7]) \n",
    "flavor1 = np.dot(nparray1, nparray2) # Way-1\n",
    "print(flavor1)\n",
    "\n",
    "flavor2 = np.sum(nparray1 * nparray2) # Way-2\n",
    "print(flavor2)\n",
    "\n",
    "flavor3 = nparray1 @ nparray2 # Way-3\n",
    "print(flavor3)\n",
    "\n",
    "flavor4 = 0 # Way-4\n",
    "for a, b in zip(nparray1, nparray2):\n",
    "    flavor4 += a * b\n",
    "print(flavor4)"
   ]
  },
  {
   "cell_type": "code",
   "execution_count": 15,
   "id": "7c99e0cf",
   "metadata": {},
   "outputs": [
    {
     "name": "stdout",
     "output_type": "stream",
     "text": [
      "[ 9 12]\n",
      "[ 3  7 11]\n",
      "21\n"
     ]
    }
   ],
   "source": [
    "narray=np.array([[1,2],[3,4],[5,6]])\n",
    "sumByCols=np.sum(narray,axis=0)\n",
    "sumByRows=np.sum(narray,axis=1)\n",
    "sm=np.sum(narray)\n",
    "print(sumByCols)\n",
    "print(sumByRows)\n",
    "print(sm)"
   ]
  },
  {
   "cell_type": "code",
   "execution_count": 16,
   "id": "bf12c83e",
   "metadata": {},
   "outputs": [
    {
     "name": "stdout",
     "output_type": "stream",
     "text": [
      "0.0 [0. 0. 0.] [ 2. -2.]\n"
     ]
    }
   ],
   "source": [
    "nparray2 = np.array([[1, -1], [2, -2], [3, -3]]) \n",
    "\n",
    "mean = np.mean(nparray2) # Get the mean for the whole matrix\n",
    "meanByCols = np.mean(nparray2, axis=0) # Get the mean for each column. Returns 2 elements\n",
    "meanByRows = np.mean(nparray2, axis=1)\n",
    "\n",
    "print(mean,meanByRows,meanByCols,)"
   ]
  },
  {
   "cell_type": "code",
   "execution_count": 17,
   "id": "fdacf78c",
   "metadata": {},
   "outputs": [
    {
     "name": "stdout",
     "output_type": "stream",
     "text": [
      "[[1 2]\n",
      " [3 4]\n",
      " [5 6]]\n",
      "[[-2. -2.]\n",
      " [ 0.  0.]\n",
      " [ 2.  2.]]\n"
     ]
    }
   ],
   "source": [
    "narray= np.array([[1,2],[3,4],[5,6]])\n",
    "centered=narray - np.mean(narray, axis=0)\n",
    "print(narray)\n",
    "print(centered)"
   ]
  },
  {
   "cell_type": "markdown",
   "id": "f668429e",
   "metadata": {},
   "source": [
    "# Excercise"
   ]
  },
  {
   "cell_type": "code",
   "execution_count": 22,
   "id": "8b187757",
   "metadata": {},
   "outputs": [
    {
     "name": "stdout",
     "output_type": "stream",
     "text": [
      "[[0.26744542 0.10445335 0.57130856]\n",
      " [0.40501394 0.16258668 0.14000017]]\n",
      "[[0.45173753 0.64797111]\n",
      " [0.79766027 0.55610976]\n",
      " [0.00255738 0.61211701]]\n"
     ]
    }
   ],
   "source": [
    "arr1,arr2= np.random.rand(2,3),np.random.rand(3,2)\n",
    "\n",
    "print(arr1)\n",
    "print(arr2)"
   ]
  },
  {
   "cell_type": "code",
   "execution_count": 23,
   "id": "d83c9230",
   "metadata": {},
   "outputs": [
    {
     "name": "stdout",
     "output_type": "stream",
     "text": [
      "[[0.20559447 0.58109212]\n",
      " [0.31300696 0.43854986]]\n"
     ]
    }
   ],
   "source": [
    "print(np.dot(arr1,arr2))"
   ]
  },
  {
   "cell_type": "code",
   "execution_count": 27,
   "id": "3bdaa7eb",
   "metadata": {},
   "outputs": [
    {
     "name": "stdout",
     "output_type": "stream",
     "text": [
      "[[0.20559447 0.58109212]\n",
      " [0.31300696 0.43854986]]\n"
     ]
    }
   ],
   "source": [
    "print(np.matmul(arr1,arr2))"
   ]
  },
  {
   "cell_type": "code",
   "execution_count": 28,
   "id": "8f8a4fe4",
   "metadata": {},
   "outputs": [
    {
     "name": "stdout",
     "output_type": "stream",
     "text": [
      "0.2751346864700374\n"
     ]
    }
   ],
   "source": [
    "print(np.mean(arr1))"
   ]
  },
  {
   "cell_type": "code",
   "execution_count": 29,
   "id": "8426b823",
   "metadata": {},
   "outputs": [],
   "source": [
    "import pandas as pd"
   ]
  },
  {
   "cell_type": "code",
   "execution_count": 30,
   "id": "b160fbfd",
   "metadata": {},
   "outputs": [
    {
     "data": {
      "text/html": [
       "<div>\n",
       "<style scoped>\n",
       "    .dataframe tbody tr th:only-of-type {\n",
       "        vertical-align: middle;\n",
       "    }\n",
       "\n",
       "    .dataframe tbody tr th {\n",
       "        vertical-align: top;\n",
       "    }\n",
       "\n",
       "    .dataframe thead th {\n",
       "        text-align: right;\n",
       "    }\n",
       "</style>\n",
       "<table border=\"1\" class=\"dataframe\">\n",
       "  <thead>\n",
       "    <tr style=\"text-align: right;\">\n",
       "      <th></th>\n",
       "      <th>model</th>\n",
       "      <th>mpg</th>\n",
       "      <th>cyl</th>\n",
       "      <th>disp</th>\n",
       "      <th>hp</th>\n",
       "      <th>drat</th>\n",
       "      <th>wt</th>\n",
       "      <th>qsec</th>\n",
       "      <th>vs</th>\n",
       "      <th>am</th>\n",
       "      <th>gear</th>\n",
       "      <th>carb</th>\n",
       "    </tr>\n",
       "  </thead>\n",
       "  <tbody>\n",
       "    <tr>\n",
       "      <th>0</th>\n",
       "      <td>Mazda RX4</td>\n",
       "      <td>21.0</td>\n",
       "      <td>6</td>\n",
       "      <td>160.0</td>\n",
       "      <td>110</td>\n",
       "      <td>3.90</td>\n",
       "      <td>2.620</td>\n",
       "      <td>16.46</td>\n",
       "      <td>0</td>\n",
       "      <td>1</td>\n",
       "      <td>4</td>\n",
       "      <td>4</td>\n",
       "    </tr>\n",
       "    <tr>\n",
       "      <th>1</th>\n",
       "      <td>Mazda RX4 Wag</td>\n",
       "      <td>21.0</td>\n",
       "      <td>6</td>\n",
       "      <td>160.0</td>\n",
       "      <td>110</td>\n",
       "      <td>3.90</td>\n",
       "      <td>2.875</td>\n",
       "      <td>17.02</td>\n",
       "      <td>0</td>\n",
       "      <td>1</td>\n",
       "      <td>4</td>\n",
       "      <td>4</td>\n",
       "    </tr>\n",
       "    <tr>\n",
       "      <th>2</th>\n",
       "      <td>Datsun 710</td>\n",
       "      <td>22.8</td>\n",
       "      <td>4</td>\n",
       "      <td>108.0</td>\n",
       "      <td>93</td>\n",
       "      <td>3.85</td>\n",
       "      <td>2.320</td>\n",
       "      <td>18.61</td>\n",
       "      <td>1</td>\n",
       "      <td>1</td>\n",
       "      <td>4</td>\n",
       "      <td>1</td>\n",
       "    </tr>\n",
       "    <tr>\n",
       "      <th>3</th>\n",
       "      <td>Hornet 4 Drive</td>\n",
       "      <td>21.4</td>\n",
       "      <td>6</td>\n",
       "      <td>258.0</td>\n",
       "      <td>110</td>\n",
       "      <td>3.08</td>\n",
       "      <td>3.215</td>\n",
       "      <td>19.44</td>\n",
       "      <td>1</td>\n",
       "      <td>0</td>\n",
       "      <td>3</td>\n",
       "      <td>1</td>\n",
       "    </tr>\n",
       "    <tr>\n",
       "      <th>4</th>\n",
       "      <td>Hornet Sportabout</td>\n",
       "      <td>18.7</td>\n",
       "      <td>8</td>\n",
       "      <td>360.0</td>\n",
       "      <td>175</td>\n",
       "      <td>3.15</td>\n",
       "      <td>3.440</td>\n",
       "      <td>17.02</td>\n",
       "      <td>0</td>\n",
       "      <td>0</td>\n",
       "      <td>3</td>\n",
       "      <td>2</td>\n",
       "    </tr>\n",
       "    <tr>\n",
       "      <th>5</th>\n",
       "      <td>Valiant</td>\n",
       "      <td>18.1</td>\n",
       "      <td>6</td>\n",
       "      <td>225.0</td>\n",
       "      <td>105</td>\n",
       "      <td>2.76</td>\n",
       "      <td>3.460</td>\n",
       "      <td>20.22</td>\n",
       "      <td>1</td>\n",
       "      <td>0</td>\n",
       "      <td>3</td>\n",
       "      <td>1</td>\n",
       "    </tr>\n",
       "    <tr>\n",
       "      <th>6</th>\n",
       "      <td>Duster 360</td>\n",
       "      <td>14.3</td>\n",
       "      <td>8</td>\n",
       "      <td>360.0</td>\n",
       "      <td>245</td>\n",
       "      <td>3.21</td>\n",
       "      <td>3.570</td>\n",
       "      <td>15.84</td>\n",
       "      <td>0</td>\n",
       "      <td>0</td>\n",
       "      <td>3</td>\n",
       "      <td>4</td>\n",
       "    </tr>\n",
       "    <tr>\n",
       "      <th>7</th>\n",
       "      <td>Merc 240D</td>\n",
       "      <td>24.4</td>\n",
       "      <td>4</td>\n",
       "      <td>146.7</td>\n",
       "      <td>62</td>\n",
       "      <td>3.69</td>\n",
       "      <td>3.190</td>\n",
       "      <td>20.00</td>\n",
       "      <td>1</td>\n",
       "      <td>0</td>\n",
       "      <td>4</td>\n",
       "      <td>2</td>\n",
       "    </tr>\n",
       "    <tr>\n",
       "      <th>8</th>\n",
       "      <td>Merc 230</td>\n",
       "      <td>22.8</td>\n",
       "      <td>4</td>\n",
       "      <td>140.8</td>\n",
       "      <td>95</td>\n",
       "      <td>3.92</td>\n",
       "      <td>3.150</td>\n",
       "      <td>22.90</td>\n",
       "      <td>1</td>\n",
       "      <td>0</td>\n",
       "      <td>4</td>\n",
       "      <td>2</td>\n",
       "    </tr>\n",
       "    <tr>\n",
       "      <th>9</th>\n",
       "      <td>Merc 280</td>\n",
       "      <td>19.2</td>\n",
       "      <td>6</td>\n",
       "      <td>167.6</td>\n",
       "      <td>123</td>\n",
       "      <td>3.92</td>\n",
       "      <td>3.440</td>\n",
       "      <td>18.30</td>\n",
       "      <td>1</td>\n",
       "      <td>0</td>\n",
       "      <td>4</td>\n",
       "      <td>4</td>\n",
       "    </tr>\n",
       "    <tr>\n",
       "      <th>10</th>\n",
       "      <td>Merc 280C</td>\n",
       "      <td>17.8</td>\n",
       "      <td>6</td>\n",
       "      <td>167.6</td>\n",
       "      <td>123</td>\n",
       "      <td>3.92</td>\n",
       "      <td>3.440</td>\n",
       "      <td>18.90</td>\n",
       "      <td>1</td>\n",
       "      <td>0</td>\n",
       "      <td>4</td>\n",
       "      <td>4</td>\n",
       "    </tr>\n",
       "    <tr>\n",
       "      <th>11</th>\n",
       "      <td>Merc 450SE</td>\n",
       "      <td>16.4</td>\n",
       "      <td>8</td>\n",
       "      <td>275.8</td>\n",
       "      <td>180</td>\n",
       "      <td>3.07</td>\n",
       "      <td>4.070</td>\n",
       "      <td>17.40</td>\n",
       "      <td>0</td>\n",
       "      <td>0</td>\n",
       "      <td>3</td>\n",
       "      <td>3</td>\n",
       "    </tr>\n",
       "    <tr>\n",
       "      <th>12</th>\n",
       "      <td>Merc 450SL</td>\n",
       "      <td>17.3</td>\n",
       "      <td>8</td>\n",
       "      <td>275.8</td>\n",
       "      <td>180</td>\n",
       "      <td>3.07</td>\n",
       "      <td>3.730</td>\n",
       "      <td>17.60</td>\n",
       "      <td>0</td>\n",
       "      <td>0</td>\n",
       "      <td>3</td>\n",
       "      <td>3</td>\n",
       "    </tr>\n",
       "    <tr>\n",
       "      <th>13</th>\n",
       "      <td>Merc 450SLC</td>\n",
       "      <td>15.2</td>\n",
       "      <td>8</td>\n",
       "      <td>275.8</td>\n",
       "      <td>180</td>\n",
       "      <td>3.07</td>\n",
       "      <td>3.780</td>\n",
       "      <td>18.00</td>\n",
       "      <td>0</td>\n",
       "      <td>0</td>\n",
       "      <td>3</td>\n",
       "      <td>3</td>\n",
       "    </tr>\n",
       "    <tr>\n",
       "      <th>14</th>\n",
       "      <td>Cadillac Fleetwood</td>\n",
       "      <td>10.4</td>\n",
       "      <td>8</td>\n",
       "      <td>472.0</td>\n",
       "      <td>205</td>\n",
       "      <td>2.93</td>\n",
       "      <td>5.250</td>\n",
       "      <td>17.98</td>\n",
       "      <td>0</td>\n",
       "      <td>0</td>\n",
       "      <td>3</td>\n",
       "      <td>4</td>\n",
       "    </tr>\n",
       "    <tr>\n",
       "      <th>15</th>\n",
       "      <td>Lincoln Continental</td>\n",
       "      <td>10.4</td>\n",
       "      <td>8</td>\n",
       "      <td>460.0</td>\n",
       "      <td>215</td>\n",
       "      <td>3.00</td>\n",
       "      <td>5.424</td>\n",
       "      <td>17.82</td>\n",
       "      <td>0</td>\n",
       "      <td>0</td>\n",
       "      <td>3</td>\n",
       "      <td>4</td>\n",
       "    </tr>\n",
       "    <tr>\n",
       "      <th>16</th>\n",
       "      <td>Chrysler Imperial</td>\n",
       "      <td>14.7</td>\n",
       "      <td>8</td>\n",
       "      <td>440.0</td>\n",
       "      <td>230</td>\n",
       "      <td>3.23</td>\n",
       "      <td>5.345</td>\n",
       "      <td>17.42</td>\n",
       "      <td>0</td>\n",
       "      <td>0</td>\n",
       "      <td>3</td>\n",
       "      <td>4</td>\n",
       "    </tr>\n",
       "    <tr>\n",
       "      <th>17</th>\n",
       "      <td>Fiat 128</td>\n",
       "      <td>32.4</td>\n",
       "      <td>4</td>\n",
       "      <td>78.7</td>\n",
       "      <td>66</td>\n",
       "      <td>4.08</td>\n",
       "      <td>2.200</td>\n",
       "      <td>19.47</td>\n",
       "      <td>1</td>\n",
       "      <td>1</td>\n",
       "      <td>4</td>\n",
       "      <td>1</td>\n",
       "    </tr>\n",
       "    <tr>\n",
       "      <th>18</th>\n",
       "      <td>Honda Civic</td>\n",
       "      <td>30.4</td>\n",
       "      <td>4</td>\n",
       "      <td>75.7</td>\n",
       "      <td>52</td>\n",
       "      <td>4.93</td>\n",
       "      <td>1.615</td>\n",
       "      <td>18.52</td>\n",
       "      <td>1</td>\n",
       "      <td>1</td>\n",
       "      <td>4</td>\n",
       "      <td>2</td>\n",
       "    </tr>\n",
       "    <tr>\n",
       "      <th>19</th>\n",
       "      <td>Toyota Corolla</td>\n",
       "      <td>33.9</td>\n",
       "      <td>4</td>\n",
       "      <td>71.1</td>\n",
       "      <td>65</td>\n",
       "      <td>4.22</td>\n",
       "      <td>1.835</td>\n",
       "      <td>19.90</td>\n",
       "      <td>1</td>\n",
       "      <td>1</td>\n",
       "      <td>4</td>\n",
       "      <td>1</td>\n",
       "    </tr>\n",
       "    <tr>\n",
       "      <th>20</th>\n",
       "      <td>Toyota Corona</td>\n",
       "      <td>21.5</td>\n",
       "      <td>4</td>\n",
       "      <td>120.1</td>\n",
       "      <td>97</td>\n",
       "      <td>3.70</td>\n",
       "      <td>2.465</td>\n",
       "      <td>20.01</td>\n",
       "      <td>1</td>\n",
       "      <td>0</td>\n",
       "      <td>3</td>\n",
       "      <td>1</td>\n",
       "    </tr>\n",
       "    <tr>\n",
       "      <th>21</th>\n",
       "      <td>Dodge Challenger</td>\n",
       "      <td>15.5</td>\n",
       "      <td>8</td>\n",
       "      <td>318.0</td>\n",
       "      <td>150</td>\n",
       "      <td>2.76</td>\n",
       "      <td>3.520</td>\n",
       "      <td>16.87</td>\n",
       "      <td>0</td>\n",
       "      <td>0</td>\n",
       "      <td>3</td>\n",
       "      <td>2</td>\n",
       "    </tr>\n",
       "    <tr>\n",
       "      <th>22</th>\n",
       "      <td>AMC Javelin</td>\n",
       "      <td>15.2</td>\n",
       "      <td>8</td>\n",
       "      <td>304.0</td>\n",
       "      <td>150</td>\n",
       "      <td>3.15</td>\n",
       "      <td>3.435</td>\n",
       "      <td>17.30</td>\n",
       "      <td>0</td>\n",
       "      <td>0</td>\n",
       "      <td>3</td>\n",
       "      <td>2</td>\n",
       "    </tr>\n",
       "    <tr>\n",
       "      <th>23</th>\n",
       "      <td>Camaro Z28</td>\n",
       "      <td>13.3</td>\n",
       "      <td>8</td>\n",
       "      <td>350.0</td>\n",
       "      <td>245</td>\n",
       "      <td>3.73</td>\n",
       "      <td>3.840</td>\n",
       "      <td>15.41</td>\n",
       "      <td>0</td>\n",
       "      <td>0</td>\n",
       "      <td>3</td>\n",
       "      <td>4</td>\n",
       "    </tr>\n",
       "    <tr>\n",
       "      <th>24</th>\n",
       "      <td>Pontiac Firebird</td>\n",
       "      <td>19.2</td>\n",
       "      <td>8</td>\n",
       "      <td>400.0</td>\n",
       "      <td>175</td>\n",
       "      <td>3.08</td>\n",
       "      <td>3.845</td>\n",
       "      <td>17.05</td>\n",
       "      <td>0</td>\n",
       "      <td>0</td>\n",
       "      <td>3</td>\n",
       "      <td>2</td>\n",
       "    </tr>\n",
       "    <tr>\n",
       "      <th>25</th>\n",
       "      <td>Fiat X1-9</td>\n",
       "      <td>27.3</td>\n",
       "      <td>4</td>\n",
       "      <td>79.0</td>\n",
       "      <td>66</td>\n",
       "      <td>4.08</td>\n",
       "      <td>1.935</td>\n",
       "      <td>18.90</td>\n",
       "      <td>1</td>\n",
       "      <td>1</td>\n",
       "      <td>4</td>\n",
       "      <td>1</td>\n",
       "    </tr>\n",
       "    <tr>\n",
       "      <th>26</th>\n",
       "      <td>Porsche 914-2</td>\n",
       "      <td>26.0</td>\n",
       "      <td>4</td>\n",
       "      <td>120.3</td>\n",
       "      <td>91</td>\n",
       "      <td>4.43</td>\n",
       "      <td>2.140</td>\n",
       "      <td>16.70</td>\n",
       "      <td>0</td>\n",
       "      <td>1</td>\n",
       "      <td>5</td>\n",
       "      <td>2</td>\n",
       "    </tr>\n",
       "    <tr>\n",
       "      <th>27</th>\n",
       "      <td>Lotus Europa</td>\n",
       "      <td>30.4</td>\n",
       "      <td>4</td>\n",
       "      <td>95.1</td>\n",
       "      <td>113</td>\n",
       "      <td>3.77</td>\n",
       "      <td>1.513</td>\n",
       "      <td>16.90</td>\n",
       "      <td>1</td>\n",
       "      <td>1</td>\n",
       "      <td>5</td>\n",
       "      <td>2</td>\n",
       "    </tr>\n",
       "    <tr>\n",
       "      <th>28</th>\n",
       "      <td>Ford Pantera L</td>\n",
       "      <td>15.8</td>\n",
       "      <td>8</td>\n",
       "      <td>351.0</td>\n",
       "      <td>264</td>\n",
       "      <td>4.22</td>\n",
       "      <td>3.170</td>\n",
       "      <td>14.50</td>\n",
       "      <td>0</td>\n",
       "      <td>1</td>\n",
       "      <td>5</td>\n",
       "      <td>4</td>\n",
       "    </tr>\n",
       "    <tr>\n",
       "      <th>29</th>\n",
       "      <td>Ferrari Dino</td>\n",
       "      <td>19.7</td>\n",
       "      <td>6</td>\n",
       "      <td>145.0</td>\n",
       "      <td>175</td>\n",
       "      <td>3.62</td>\n",
       "      <td>2.770</td>\n",
       "      <td>15.50</td>\n",
       "      <td>0</td>\n",
       "      <td>1</td>\n",
       "      <td>5</td>\n",
       "      <td>6</td>\n",
       "    </tr>\n",
       "    <tr>\n",
       "      <th>30</th>\n",
       "      <td>Maserati Bora</td>\n",
       "      <td>15.0</td>\n",
       "      <td>8</td>\n",
       "      <td>301.0</td>\n",
       "      <td>335</td>\n",
       "      <td>3.54</td>\n",
       "      <td>3.570</td>\n",
       "      <td>14.60</td>\n",
       "      <td>0</td>\n",
       "      <td>1</td>\n",
       "      <td>5</td>\n",
       "      <td>8</td>\n",
       "    </tr>\n",
       "    <tr>\n",
       "      <th>31</th>\n",
       "      <td>Volvo 142E</td>\n",
       "      <td>21.4</td>\n",
       "      <td>4</td>\n",
       "      <td>121.0</td>\n",
       "      <td>109</td>\n",
       "      <td>4.11</td>\n",
       "      <td>2.780</td>\n",
       "      <td>18.60</td>\n",
       "      <td>1</td>\n",
       "      <td>1</td>\n",
       "      <td>4</td>\n",
       "      <td>2</td>\n",
       "    </tr>\n",
       "  </tbody>\n",
       "</table>\n",
       "</div>"
      ],
      "text/plain": [
       "                  model   mpg  cyl   disp   hp  drat     wt   qsec  vs  am  \\\n",
       "0             Mazda RX4  21.0    6  160.0  110  3.90  2.620  16.46   0   1   \n",
       "1         Mazda RX4 Wag  21.0    6  160.0  110  3.90  2.875  17.02   0   1   \n",
       "2            Datsun 710  22.8    4  108.0   93  3.85  2.320  18.61   1   1   \n",
       "3        Hornet 4 Drive  21.4    6  258.0  110  3.08  3.215  19.44   1   0   \n",
       "4     Hornet Sportabout  18.7    8  360.0  175  3.15  3.440  17.02   0   0   \n",
       "5               Valiant  18.1    6  225.0  105  2.76  3.460  20.22   1   0   \n",
       "6            Duster 360  14.3    8  360.0  245  3.21  3.570  15.84   0   0   \n",
       "7             Merc 240D  24.4    4  146.7   62  3.69  3.190  20.00   1   0   \n",
       "8              Merc 230  22.8    4  140.8   95  3.92  3.150  22.90   1   0   \n",
       "9              Merc 280  19.2    6  167.6  123  3.92  3.440  18.30   1   0   \n",
       "10            Merc 280C  17.8    6  167.6  123  3.92  3.440  18.90   1   0   \n",
       "11           Merc 450SE  16.4    8  275.8  180  3.07  4.070  17.40   0   0   \n",
       "12           Merc 450SL  17.3    8  275.8  180  3.07  3.730  17.60   0   0   \n",
       "13          Merc 450SLC  15.2    8  275.8  180  3.07  3.780  18.00   0   0   \n",
       "14   Cadillac Fleetwood  10.4    8  472.0  205  2.93  5.250  17.98   0   0   \n",
       "15  Lincoln Continental  10.4    8  460.0  215  3.00  5.424  17.82   0   0   \n",
       "16    Chrysler Imperial  14.7    8  440.0  230  3.23  5.345  17.42   0   0   \n",
       "17             Fiat 128  32.4    4   78.7   66  4.08  2.200  19.47   1   1   \n",
       "18          Honda Civic  30.4    4   75.7   52  4.93  1.615  18.52   1   1   \n",
       "19       Toyota Corolla  33.9    4   71.1   65  4.22  1.835  19.90   1   1   \n",
       "20        Toyota Corona  21.5    4  120.1   97  3.70  2.465  20.01   1   0   \n",
       "21     Dodge Challenger  15.5    8  318.0  150  2.76  3.520  16.87   0   0   \n",
       "22          AMC Javelin  15.2    8  304.0  150  3.15  3.435  17.30   0   0   \n",
       "23           Camaro Z28  13.3    8  350.0  245  3.73  3.840  15.41   0   0   \n",
       "24     Pontiac Firebird  19.2    8  400.0  175  3.08  3.845  17.05   0   0   \n",
       "25            Fiat X1-9  27.3    4   79.0   66  4.08  1.935  18.90   1   1   \n",
       "26        Porsche 914-2  26.0    4  120.3   91  4.43  2.140  16.70   0   1   \n",
       "27         Lotus Europa  30.4    4   95.1  113  3.77  1.513  16.90   1   1   \n",
       "28       Ford Pantera L  15.8    8  351.0  264  4.22  3.170  14.50   0   1   \n",
       "29         Ferrari Dino  19.7    6  145.0  175  3.62  2.770  15.50   0   1   \n",
       "30        Maserati Bora  15.0    8  301.0  335  3.54  3.570  14.60   0   1   \n",
       "31           Volvo 142E  21.4    4  121.0  109  4.11  2.780  18.60   1   1   \n",
       "\n",
       "    gear  carb  \n",
       "0      4     4  \n",
       "1      4     4  \n",
       "2      4     1  \n",
       "3      3     1  \n",
       "4      3     2  \n",
       "5      3     1  \n",
       "6      3     4  \n",
       "7      4     2  \n",
       "8      4     2  \n",
       "9      4     4  \n",
       "10     4     4  \n",
       "11     3     3  \n",
       "12     3     3  \n",
       "13     3     3  \n",
       "14     3     4  \n",
       "15     3     4  \n",
       "16     3     4  \n",
       "17     4     1  \n",
       "18     4     2  \n",
       "19     4     1  \n",
       "20     3     1  \n",
       "21     3     2  \n",
       "22     3     2  \n",
       "23     3     4  \n",
       "24     3     2  \n",
       "25     4     1  \n",
       "26     5     2  \n",
       "27     5     2  \n",
       "28     5     4  \n",
       "29     5     6  \n",
       "30     5     8  \n",
       "31     4     2  "
      ]
     },
     "execution_count": 30,
     "metadata": {},
     "output_type": "execute_result"
    }
   ],
   "source": [
    "df=pd.read_csv('D:/Term/ML/136-Harshit-Tarsariya/01/mtcars.csv')\n",
    "df"
   ]
  },
  {
   "cell_type": "code",
   "execution_count": 31,
   "id": "c46b8848",
   "metadata": {},
   "outputs": [],
   "source": [
    "df=np.array(df.drop(['model'],axis=1))"
   ]
  },
  {
   "cell_type": "code",
   "execution_count": 32,
   "id": "e0072378",
   "metadata": {},
   "outputs": [],
   "source": [
    "narray=df - np.mean(df, axis=0)"
   ]
  },
  {
   "cell_type": "code",
   "execution_count": 33,
   "id": "3146e212",
   "metadata": {},
   "outputs": [
    {
     "data": {
      "text/plain": [
       "array([[ 9.09375000e-01, -1.87500000e-01, -7.07218750e+01,\n",
       "        -3.66875000e+01,  3.03437500e-01, -5.97250000e-01,\n",
       "        -1.38875000e+00, -4.37500000e-01,  5.93750000e-01,\n",
       "         3.12500000e-01,  1.18750000e+00],\n",
       "       [ 9.09375000e-01, -1.87500000e-01, -7.07218750e+01,\n",
       "        -3.66875000e+01,  3.03437500e-01, -3.42250000e-01,\n",
       "        -8.28750000e-01, -4.37500000e-01,  5.93750000e-01,\n",
       "         3.12500000e-01,  1.18750000e+00],\n",
       "       [ 2.70937500e+00, -2.18750000e+00, -1.22721875e+02,\n",
       "        -5.36875000e+01,  2.53437500e-01, -8.97250000e-01,\n",
       "         7.61250000e-01,  5.62500000e-01,  5.93750000e-01,\n",
       "         3.12500000e-01, -1.81250000e+00],\n",
       "       [ 1.30937500e+00, -1.87500000e-01,  2.72781250e+01,\n",
       "        -3.66875000e+01, -5.16562500e-01, -2.25000000e-03,\n",
       "         1.59125000e+00,  5.62500000e-01, -4.06250000e-01,\n",
       "        -6.87500000e-01, -1.81250000e+00],\n",
       "       [-1.39062500e+00,  1.81250000e+00,  1.29278125e+02,\n",
       "         2.83125000e+01, -4.46562500e-01,  2.22750000e-01,\n",
       "        -8.28750000e-01, -4.37500000e-01, -4.06250000e-01,\n",
       "        -6.87500000e-01, -8.12500000e-01],\n",
       "       [-1.99062500e+00, -1.87500000e-01, -5.72187500e+00,\n",
       "        -4.16875000e+01, -8.36562500e-01,  2.42750000e-01,\n",
       "         2.37125000e+00,  5.62500000e-01, -4.06250000e-01,\n",
       "        -6.87500000e-01, -1.81250000e+00],\n",
       "       [-5.79062500e+00,  1.81250000e+00,  1.29278125e+02,\n",
       "         9.83125000e+01, -3.86562500e-01,  3.52750000e-01,\n",
       "        -2.00875000e+00, -4.37500000e-01, -4.06250000e-01,\n",
       "        -6.87500000e-01,  1.18750000e+00],\n",
       "       [ 4.30937500e+00, -2.18750000e+00, -8.40218750e+01,\n",
       "        -8.46875000e+01,  9.34375000e-02, -2.72500000e-02,\n",
       "         2.15125000e+00,  5.62500000e-01, -4.06250000e-01,\n",
       "         3.12500000e-01, -8.12500000e-01],\n",
       "       [ 2.70937500e+00, -2.18750000e+00, -8.99218750e+01,\n",
       "        -5.16875000e+01,  3.23437500e-01, -6.72500000e-02,\n",
       "         5.05125000e+00,  5.62500000e-01, -4.06250000e-01,\n",
       "         3.12500000e-01, -8.12500000e-01],\n",
       "       [-8.90625000e-01, -1.87500000e-01, -6.31218750e+01,\n",
       "        -2.36875000e+01,  3.23437500e-01,  2.22750000e-01,\n",
       "         4.51250000e-01,  5.62500000e-01, -4.06250000e-01,\n",
       "         3.12500000e-01,  1.18750000e+00],\n",
       "       [-2.29062500e+00, -1.87500000e-01, -6.31218750e+01,\n",
       "        -2.36875000e+01,  3.23437500e-01,  2.22750000e-01,\n",
       "         1.05125000e+00,  5.62500000e-01, -4.06250000e-01,\n",
       "         3.12500000e-01,  1.18750000e+00],\n",
       "       [-3.69062500e+00,  1.81250000e+00,  4.50781250e+01,\n",
       "         3.33125000e+01, -5.26562500e-01,  8.52750000e-01,\n",
       "        -4.48750000e-01, -4.37500000e-01, -4.06250000e-01,\n",
       "        -6.87500000e-01,  1.87500000e-01],\n",
       "       [-2.79062500e+00,  1.81250000e+00,  4.50781250e+01,\n",
       "         3.33125000e+01, -5.26562500e-01,  5.12750000e-01,\n",
       "        -2.48750000e-01, -4.37500000e-01, -4.06250000e-01,\n",
       "        -6.87500000e-01,  1.87500000e-01],\n",
       "       [-4.89062500e+00,  1.81250000e+00,  4.50781250e+01,\n",
       "         3.33125000e+01, -5.26562500e-01,  5.62750000e-01,\n",
       "         1.51250000e-01, -4.37500000e-01, -4.06250000e-01,\n",
       "        -6.87500000e-01,  1.87500000e-01],\n",
       "       [-9.69062500e+00,  1.81250000e+00,  2.41278125e+02,\n",
       "         5.83125000e+01, -6.66562500e-01,  2.03275000e+00,\n",
       "         1.31250000e-01, -4.37500000e-01, -4.06250000e-01,\n",
       "        -6.87500000e-01,  1.18750000e+00],\n",
       "       [-9.69062500e+00,  1.81250000e+00,  2.29278125e+02,\n",
       "         6.83125000e+01, -5.96562500e-01,  2.20675000e+00,\n",
       "        -2.87500000e-02, -4.37500000e-01, -4.06250000e-01,\n",
       "        -6.87500000e-01,  1.18750000e+00],\n",
       "       [-5.39062500e+00,  1.81250000e+00,  2.09278125e+02,\n",
       "         8.33125000e+01, -3.66562500e-01,  2.12775000e+00,\n",
       "        -4.28750000e-01, -4.37500000e-01, -4.06250000e-01,\n",
       "        -6.87500000e-01,  1.18750000e+00],\n",
       "       [ 1.23093750e+01, -2.18750000e+00, -1.52021875e+02,\n",
       "        -8.06875000e+01,  4.83437500e-01, -1.01725000e+00,\n",
       "         1.62125000e+00,  5.62500000e-01,  5.93750000e-01,\n",
       "         3.12500000e-01, -1.81250000e+00],\n",
       "       [ 1.03093750e+01, -2.18750000e+00, -1.55021875e+02,\n",
       "        -9.46875000e+01,  1.33343750e+00, -1.60225000e+00,\n",
       "         6.71250000e-01,  5.62500000e-01,  5.93750000e-01,\n",
       "         3.12500000e-01, -8.12500000e-01],\n",
       "       [ 1.38093750e+01, -2.18750000e+00, -1.59621875e+02,\n",
       "        -8.16875000e+01,  6.23437500e-01, -1.38225000e+00,\n",
       "         2.05125000e+00,  5.62500000e-01,  5.93750000e-01,\n",
       "         3.12500000e-01, -1.81250000e+00],\n",
       "       [ 1.40937500e+00, -2.18750000e+00, -1.10621875e+02,\n",
       "        -4.96875000e+01,  1.03437500e-01, -7.52250000e-01,\n",
       "         2.16125000e+00,  5.62500000e-01, -4.06250000e-01,\n",
       "        -6.87500000e-01, -1.81250000e+00],\n",
       "       [-4.59062500e+00,  1.81250000e+00,  8.72781250e+01,\n",
       "         3.31250000e+00, -8.36562500e-01,  3.02750000e-01,\n",
       "        -9.78750000e-01, -4.37500000e-01, -4.06250000e-01,\n",
       "        -6.87500000e-01, -8.12500000e-01],\n",
       "       [-4.89062500e+00,  1.81250000e+00,  7.32781250e+01,\n",
       "         3.31250000e+00, -4.46562500e-01,  2.17750000e-01,\n",
       "        -5.48750000e-01, -4.37500000e-01, -4.06250000e-01,\n",
       "        -6.87500000e-01, -8.12500000e-01],\n",
       "       [-6.79062500e+00,  1.81250000e+00,  1.19278125e+02,\n",
       "         9.83125000e+01,  1.33437500e-01,  6.22750000e-01,\n",
       "        -2.43875000e+00, -4.37500000e-01, -4.06250000e-01,\n",
       "        -6.87500000e-01,  1.18750000e+00],\n",
       "       [-8.90625000e-01,  1.81250000e+00,  1.69278125e+02,\n",
       "         2.83125000e+01, -5.16562500e-01,  6.27750000e-01,\n",
       "        -7.98750000e-01, -4.37500000e-01, -4.06250000e-01,\n",
       "        -6.87500000e-01, -8.12500000e-01],\n",
       "       [ 7.20937500e+00, -2.18750000e+00, -1.51721875e+02,\n",
       "        -8.06875000e+01,  4.83437500e-01, -1.28225000e+00,\n",
       "         1.05125000e+00,  5.62500000e-01,  5.93750000e-01,\n",
       "         3.12500000e-01, -1.81250000e+00],\n",
       "       [ 5.90937500e+00, -2.18750000e+00, -1.10421875e+02,\n",
       "        -5.56875000e+01,  8.33437500e-01, -1.07725000e+00,\n",
       "        -1.14875000e+00, -4.37500000e-01,  5.93750000e-01,\n",
       "         1.31250000e+00, -8.12500000e-01],\n",
       "       [ 1.03093750e+01, -2.18750000e+00, -1.35621875e+02,\n",
       "        -3.36875000e+01,  1.73437500e-01, -1.70425000e+00,\n",
       "        -9.48750000e-01,  5.62500000e-01,  5.93750000e-01,\n",
       "         1.31250000e+00, -8.12500000e-01],\n",
       "       [-4.29062500e+00,  1.81250000e+00,  1.20278125e+02,\n",
       "         1.17312500e+02,  6.23437500e-01, -4.72500000e-02,\n",
       "        -3.34875000e+00, -4.37500000e-01,  5.93750000e-01,\n",
       "         1.31250000e+00,  1.18750000e+00],\n",
       "       [-3.90625000e-01, -1.87500000e-01, -8.57218750e+01,\n",
       "         2.83125000e+01,  2.34375000e-02, -4.47250000e-01,\n",
       "        -2.34875000e+00, -4.37500000e-01,  5.93750000e-01,\n",
       "         1.31250000e+00,  3.18750000e+00],\n",
       "       [-5.09062500e+00,  1.81250000e+00,  7.02781250e+01,\n",
       "         1.88312500e+02, -5.65625000e-02,  3.52750000e-01,\n",
       "        -3.24875000e+00, -4.37500000e-01,  5.93750000e-01,\n",
       "         1.31250000e+00,  5.18750000e+00],\n",
       "       [ 1.30937500e+00, -2.18750000e+00, -1.09721875e+02,\n",
       "        -3.76875000e+01,  5.13437500e-01, -4.37250000e-01,\n",
       "         7.51250000e-01,  5.62500000e-01,  5.93750000e-01,\n",
       "         3.12500000e-01, -8.12500000e-01]])"
      ]
     },
     "execution_count": 33,
     "metadata": {},
     "output_type": "execute_result"
    }
   ],
   "source": [
    "narray"
   ]
  },
  {
   "cell_type": "code",
   "execution_count": null,
   "id": "1c18db06",
   "metadata": {},
   "outputs": [],
   "source": []
  }
 ],
 "metadata": {
  "kernelspec": {
   "display_name": "Python 3",
   "language": "python",
   "name": "python3"
  },
  "language_info": {
   "codemirror_mode": {
    "name": "ipython",
    "version": 3
   },
   "file_extension": ".py",
   "mimetype": "text/x-python",
   "name": "python",
   "nbconvert_exporter": "python",
   "pygments_lexer": "ipython3",
   "version": "3.8.10"
  }
 },
 "nbformat": 4,
 "nbformat_minor": 5
}
