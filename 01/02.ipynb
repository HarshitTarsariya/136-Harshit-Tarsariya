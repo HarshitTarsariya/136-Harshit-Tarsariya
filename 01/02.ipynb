{
 "cells": [
  {
   "cell_type": "markdown",
   "id": "efedd068",
   "metadata": {},
   "source": [
    "# Pandas\n",
    "\n",
    "### Worked on Data_for_Transformation.csv\n"
   ]
  },
  {
   "cell_type": "code",
   "execution_count": 5,
   "id": "1256146e",
   "metadata": {},
   "outputs": [],
   "source": [
    "import pandas as pd\n",
    "import matplotlib.pyplot as plt"
   ]
  },
  {
   "cell_type": "code",
   "execution_count": 6,
   "id": "19e35f0d",
   "metadata": {},
   "outputs": [
    {
     "data": {
      "text/html": [
       "<div>\n",
       "<style scoped>\n",
       "    .dataframe tbody tr th:only-of-type {\n",
       "        vertical-align: middle;\n",
       "    }\n",
       "\n",
       "    .dataframe tbody tr th {\n",
       "        vertical-align: top;\n",
       "    }\n",
       "\n",
       "    .dataframe thead th {\n",
       "        text-align: right;\n",
       "    }\n",
       "</style>\n",
       "<table border=\"1\" class=\"dataframe\">\n",
       "  <thead>\n",
       "    <tr style=\"text-align: right;\">\n",
       "      <th></th>\n",
       "      <th>Country</th>\n",
       "      <th>Age</th>\n",
       "      <th>Salary</th>\n",
       "      <th>Purchased</th>\n",
       "    </tr>\n",
       "  </thead>\n",
       "  <tbody>\n",
       "    <tr>\n",
       "      <th>0</th>\n",
       "      <td>France</td>\n",
       "      <td>44</td>\n",
       "      <td>72000</td>\n",
       "      <td>No</td>\n",
       "    </tr>\n",
       "    <tr>\n",
       "      <th>1</th>\n",
       "      <td>Spain</td>\n",
       "      <td>27</td>\n",
       "      <td>48000</td>\n",
       "      <td>Yes</td>\n",
       "    </tr>\n",
       "    <tr>\n",
       "      <th>2</th>\n",
       "      <td>Germany</td>\n",
       "      <td>30</td>\n",
       "      <td>54000</td>\n",
       "      <td>No</td>\n",
       "    </tr>\n",
       "    <tr>\n",
       "      <th>3</th>\n",
       "      <td>Spain</td>\n",
       "      <td>38</td>\n",
       "      <td>61000</td>\n",
       "      <td>No</td>\n",
       "    </tr>\n",
       "    <tr>\n",
       "      <th>4</th>\n",
       "      <td>Germany</td>\n",
       "      <td>40</td>\n",
       "      <td>68000</td>\n",
       "      <td>Yes</td>\n",
       "    </tr>\n",
       "    <tr>\n",
       "      <th>5</th>\n",
       "      <td>France</td>\n",
       "      <td>35</td>\n",
       "      <td>58000</td>\n",
       "      <td>Yes</td>\n",
       "    </tr>\n",
       "    <tr>\n",
       "      <th>6</th>\n",
       "      <td>Spain</td>\n",
       "      <td>39</td>\n",
       "      <td>52000</td>\n",
       "      <td>No</td>\n",
       "    </tr>\n",
       "    <tr>\n",
       "      <th>7</th>\n",
       "      <td>France</td>\n",
       "      <td>48</td>\n",
       "      <td>79000</td>\n",
       "      <td>Yes</td>\n",
       "    </tr>\n",
       "    <tr>\n",
       "      <th>8</th>\n",
       "      <td>Germany</td>\n",
       "      <td>50</td>\n",
       "      <td>83000</td>\n",
       "      <td>No</td>\n",
       "    </tr>\n",
       "    <tr>\n",
       "      <th>9</th>\n",
       "      <td>France</td>\n",
       "      <td>37</td>\n",
       "      <td>67000</td>\n",
       "      <td>Yes</td>\n",
       "    </tr>\n",
       "    <tr>\n",
       "      <th>10</th>\n",
       "      <td>Spain</td>\n",
       "      <td>45</td>\n",
       "      <td>55000</td>\n",
       "      <td>No</td>\n",
       "    </tr>\n",
       "  </tbody>\n",
       "</table>\n",
       "</div>"
      ],
      "text/plain": [
       "    Country  Age  Salary Purchased\n",
       "0    France   44   72000        No\n",
       "1     Spain   27   48000       Yes\n",
       "2   Germany   30   54000        No\n",
       "3     Spain   38   61000        No\n",
       "4   Germany   40   68000       Yes\n",
       "5    France   35   58000       Yes\n",
       "6     Spain   39   52000        No\n",
       "7    France   48   79000       Yes\n",
       "8   Germany   50   83000        No\n",
       "9    France   37   67000       Yes\n",
       "10    Spain   45   55000        No"
      ]
     },
     "execution_count": 6,
     "metadata": {},
     "output_type": "execute_result"
    }
   ],
   "source": [
    "df=pd.read_csv('D:/Term/ML/136-Harshit-Tarsariya/02/Datasets/Data_for_Transformation.csv')\n",
    "df"
   ]
  },
  {
   "cell_type": "code",
   "execution_count": 7,
   "id": "ee684ca4",
   "metadata": {},
   "outputs": [
    {
     "data": {
      "text/plain": [
       "Text(0, 0.5, 'Salary')"
      ]
     },
     "execution_count": 7,
     "metadata": {},
     "output_type": "execute_result"
    },
    {
     "data": {
      "image/png": "[encoded data removed]",
      "text/plain": [
       "<Figure size 432x288 with 1 Axes>"
      ]
     },
     "metadata": {
      "needs_background": "light"
     },
     "output_type": "display_data"
    }
   ],
   "source": [
    "plt.scatter(df['Age'],df['Salary'],color=\"green\")\n",
    "plt.xlabel('Age')\n",
    "plt.ylabel('Salary')"
   ]
  },
  {
   "cell_type": "code",
   "execution_count": 8,
   "id": "a0ddd5b4",
   "metadata": {},
   "outputs": [
    {
     "data": {
      "text/plain": [
       "(array([1., 2., 2., 1., 0., 2., 1., 0., 1., 1.]),\n",
       " array([48000., 51500., 55000., 58500., 62000., 65500., 69000., 72500.,\n",
       "        76000., 79500., 83000.]),\n",
       " <BarContainer object of 10 artists>)"
      ]
     },
     "execution_count": 8,
     "metadata": {},
     "output_type": "execute_result"
    },
    {
     "data": {
      "image/png": "[encoded data removed]",
      "text/plain": [
       "<Figure size 432x288 with 1 Axes>"
      ]
     },
     "metadata": {
      "needs_background": "light"
     },
     "output_type": "display_data"
    }
   ],
   "source": [
    "plt.hist(df['Salary'],color=\"green\")"
   ]
  },
  {
   "cell_type": "code",
   "execution_count": 9,
   "id": "d8dd634b",
   "metadata": {},
   "outputs": [
    {
     "data": {
      "text/plain": [
       "<BarContainer object of 11 artists>"
      ]
     },
     "execution_count": 9,
     "metadata": {},
     "output_type": "execute_result"
    },
    {
     "data": {
      "image/png": "[encoded data removed]",
      "text/plain": [
       "<Figure size 432x288 with 1 Axes>"
      ]
     },
     "metadata": {
      "needs_background": "light"
     },
     "output_type": "display_data"
    }
   ],
   "source": [
    "plt.bar(df['Country'],df['Salary'], color ='green',width = 0.4)"
   ]
  },
  {
   "cell_type": "code",
   "execution_count": null,
   "id": "9a14656a",
   "metadata": {},
   "outputs": [],
   "source": []
  },
  {
   "cell_type": "markdown",
   "id": "a086f95d",
   "metadata": {},
   "source": [
    "### Performing Preprocessing on Text IMDB dataset"
   ]
  },
  {
   "cell_type": "code",
   "execution_count": 10,
   "id": "e97486d5",
   "metadata": {},
   "outputs": [],
   "source": [
    "data = pd.read_csv(\"C:/Users/harsh/Desktop/IMDB_Dataset.csv\")"
   ]
  },
  {
   "cell_type": "code",
   "execution_count": 11,
   "id": "85bbf710",
   "metadata": {},
   "outputs": [
    {
     "data": {
      "text/html": [
       "<div>\n",
       "<style scoped>\n",
       "    .dataframe tbody tr th:only-of-type {\n",
       "        vertical-align: middle;\n",
       "    }\n",
       "\n",
       "    .dataframe tbody tr th {\n",
       "        vertical-align: top;\n",
       "    }\n",
       "\n",
       "    .dataframe thead th {\n",
       "        text-align: right;\n",
       "    }\n",
       "</style>\n",
       "<table border=\"1\" class=\"dataframe\">\n",
       "  <thead>\n",
       "    <tr style=\"text-align: right;\">\n",
       "      <th></th>\n",
       "      <th>review</th>\n",
       "      <th>sentiment</th>\n",
       "    </tr>\n",
       "  </thead>\n",
       "  <tbody>\n",
       "    <tr>\n",
       "      <th>0</th>\n",
       "      <td>One of the other reviewers has mentioned that ...</td>\n",
       "      <td>positive</td>\n",
       "    </tr>\n",
       "    <tr>\n",
       "      <th>1</th>\n",
       "      <td>A wonderful little production. &lt;br /&gt;&lt;br /&gt;The...</td>\n",
       "      <td>positive</td>\n",
       "    </tr>\n",
       "    <tr>\n",
       "      <th>2</th>\n",
       "      <td>I thought this was a wonderful way to spend ti...</td>\n",
       "      <td>positive</td>\n",
       "    </tr>\n",
       "    <tr>\n",
       "      <th>3</th>\n",
       "      <td>Basically there's a family where a little boy ...</td>\n",
       "      <td>negative</td>\n",
       "    </tr>\n",
       "    <tr>\n",
       "      <th>4</th>\n",
       "      <td>Petter Mattei's \"Love in the Time of Money\" is...</td>\n",
       "      <td>positive</td>\n",
       "    </tr>\n",
       "  </tbody>\n",
       "</table>\n",
       "</div>"
      ],
      "text/plain": [
       "                                              review sentiment\n",
       "0  One of the other reviewers has mentioned that ...  positive\n",
       "1  A wonderful little production. <br /><br />The...  positive\n",
       "2  I thought this was a wonderful way to spend ti...  positive\n",
       "3  Basically there's a family where a little boy ...  negative\n",
       "4  Petter Mattei's \"Love in the Time of Money\" is...  positive"
      ]
     },
     "execution_count": 11,
     "metadata": {},
     "output_type": "execute_result"
    }
   ],
   "source": [
    "data.head()"
   ]
  },
  {
   "cell_type": "code",
   "execution_count": 12,
   "id": "4a0a266d",
   "metadata": {},
   "outputs": [],
   "source": [
    "import nltk, scipy, numpy"
   ]
  },
  {
   "cell_type": "code",
   "execution_count": 13,
   "id": "28978339",
   "metadata": {},
   "outputs": [
    {
     "name": "stderr",
     "output_type": "stream",
     "text": [
      "[nltk_data] Downloading package stopwords to\n",
      "[nltk_data]     C:\\Users\\harsh\\AppData\\Roaming\\nltk_data...\n",
      "[nltk_data]   Package stopwords is already up-to-date!\n"
     ]
    },
    {
     "data": {
      "text/plain": [
       "True"
      ]
     },
     "execution_count": 13,
     "metadata": {},
     "output_type": "execute_result"
    }
   ],
   "source": [
    "nltk.download('stopwords')"
   ]
  },
  {
   "cell_type": "code",
   "execution_count": 14,
   "id": "1cf33d31",
   "metadata": {},
   "outputs": [],
   "source": [
    "import re\n",
    "import string\n",
    "\n",
    "from nltk.corpus import stopwords\n",
    "from nltk.stem import PorterStemmer\n",
    "from nltk.tokenize import TweetTokenizer"
   ]
  },
  {
   "cell_type": "code",
   "execution_count": 18,
   "id": "d461f818",
   "metadata": {},
   "outputs": [
    {
     "data": {
      "text/plain": [
       "0        One of the other reviewers has mentioned that ...\n",
       "1        A wonderful little production. <br /><br />The...\n",
       "2        I thought this was a wonderful way to spend ti...\n",
       "3        Basically there's a family where a little boy ...\n",
       "4        Petter Mattei's \"Love in the Time of Money\" is...\n",
       "                               ...                        \n",
       "49995    I thought this movie did a down right good job...\n",
       "49996    Bad plot, bad dialogue, bad acting, idiotic di...\n",
       "49997    I am a Catholic taught in parochial elementary...\n",
       "49998    I'm going to have to disagree with the previou...\n",
       "49999    No one expects the Star Trek movies to be high...\n",
       "Name: review, Length: 50000, dtype: object"
      ]
     },
     "execution_count": 18,
     "metadata": {},
     "output_type": "execute_result"
    }
   ],
   "source": [
    "data_review = data.iloc[:,0]\n",
    "data_review"
   ]
  },
  {
   "cell_type": "code",
   "execution_count": 25,
   "id": "9fb01431",
   "metadata": {},
   "outputs": [
    {
     "name": "stdout",
     "output_type": "stream",
     "text": [
      "Original : Mercifully, there's no video of this wannabe western that a stay-afloat vehicle for Big Frank at a time when his career was floundering. The story of a weasel who lives on the reputation of his big gun brother and who gets run out of town by bad guys only to return to rally his townfolks with a new found courage must have been written by a back-room writer. All in all, this show stinks. The story is basically boring, ill-conceived and so naive that it can offend your intelligence. I must depart complete from the other reviewer who found it \"...underrated...\" The critics slammed it at the time and deservedly so. You'll have to catch it on the last show, if you up late and having a bout of insomnia. But, if you can sit through it, you've more fortitude than most of my movie buff friends.\n"
     ]
    }
   ],
   "source": [
    "one_review = data_review[3600]\n",
    "print(f'Original : {one_review}')"
   ]
  },
  {
   "cell_type": "code",
   "execution_count": 26,
   "id": "50668cd3",
   "metadata": {},
   "outputs": [
    {
     "name": "stdout",
     "output_type": "stream",
     "text": [
      "Url Removed: Mercifully, there's no video of this wannabe western that a stay-afloat vehicle for Big Frank at a time when his career was floundering. The story of a weasel who lives on the reputation of his big gun brother and who gets run out of town by bad guys only to return to rally his townfolks with a new found courage must have been written by a back-room writer. All in all, this show stinks. The story is basically boring, ill-conceived and so naive that it can offend your intelligence. I must depart complete from the other reviewer who found it \"...underrated...\" The critics slammed it at the time and deservedly so. You'll have to catch it on the last show, if you up late and having a bout of insomnia. But, if you can sit through it, you've more fortitude than most of my movie buff friends.\n"
     ]
    }
   ],
   "source": [
    "one_review_url_removed = re.sub(r'https?:\\/\\/.*[\\r\\n]*','',one_review)\n",
    "print(f'Url Removed: {one_review_url_removed}')"
   ]
  },
  {
   "cell_type": "code",
   "execution_count": 28,
   "id": "c8bb5cb0",
   "metadata": {},
   "outputs": [
    {
     "name": "stdout",
     "output_type": "stream",
     "text": [
      "# Removed: Mercifully, there's no video of this wannabe western that a stay-afloat vehicle for Big Frank at a time when his career was floundering. The story of a weasel who lives on the reputation of his big gun brother and who gets run out of town by bad guys only to return to rally his townfolks with a new found courage must have been written by a back-room writer. All in all, this show stinks. The story is basically boring, ill-conceived and so naive that it can offend your intelligence. I must depart complete from the other reviewer who found it \"...underrated...\" The critics slammed it at the time and deservedly so. You'll have to catch it on the last show, if you up late and having a bout of insomnia. But, if you can sit through it, you've more fortitude than most of my movie buff friends.\n"
     ]
    }
   ],
   "source": [
    "one_review_tag_removed = re.sub(r'#','',one_review)\n",
    "print(f'# Removed: {one_review_url_removed}')"
   ]
  },
  {
   "cell_type": "code",
   "execution_count": 29,
   "id": "f705dc6d",
   "metadata": {},
   "outputs": [
    {
     "data": {
      "text/plain": [
       "['mercifully',\n",
       " ',',\n",
       " \"there's\",\n",
       " 'no',\n",
       " 'video',\n",
       " 'of',\n",
       " 'this',\n",
       " 'wannabe',\n",
       " 'western',\n",
       " 'that',\n",
       " 'a',\n",
       " 'stay-afloat',\n",
       " 'vehicle',\n",
       " 'for',\n",
       " 'big',\n",
       " 'frank',\n",
       " 'at',\n",
       " 'a',\n",
       " 'time',\n",
       " 'when',\n",
       " 'his',\n",
       " 'career',\n",
       " 'was',\n",
       " 'floundering',\n",
       " '.',\n",
       " 'the',\n",
       " 'story',\n",
       " 'of',\n",
       " 'a',\n",
       " 'weasel',\n",
       " 'who',\n",
       " 'lives',\n",
       " 'on',\n",
       " 'the',\n",
       " 'reputation',\n",
       " 'of',\n",
       " 'his',\n",
       " 'big',\n",
       " 'gun',\n",
       " 'brother',\n",
       " 'and',\n",
       " 'who',\n",
       " 'gets',\n",
       " 'run',\n",
       " 'out',\n",
       " 'of',\n",
       " 'town',\n",
       " 'by',\n",
       " 'bad',\n",
       " 'guys',\n",
       " 'only',\n",
       " 'to',\n",
       " 'return',\n",
       " 'to',\n",
       " 'rally',\n",
       " 'his',\n",
       " 'townfolks',\n",
       " 'with',\n",
       " 'a',\n",
       " 'new',\n",
       " 'found',\n",
       " 'courage',\n",
       " 'must',\n",
       " 'have',\n",
       " 'been',\n",
       " 'written',\n",
       " 'by',\n",
       " 'a',\n",
       " 'back-room',\n",
       " 'writer',\n",
       " '.',\n",
       " 'all',\n",
       " 'in',\n",
       " 'all',\n",
       " ',',\n",
       " 'this',\n",
       " 'show',\n",
       " 'stinks',\n",
       " '.',\n",
       " 'the',\n",
       " 'story',\n",
       " 'is',\n",
       " 'basically',\n",
       " 'boring',\n",
       " ',',\n",
       " 'ill-conceived',\n",
       " 'and',\n",
       " 'so',\n",
       " 'naive',\n",
       " 'that',\n",
       " 'it',\n",
       " 'can',\n",
       " 'offend',\n",
       " 'your',\n",
       " 'intelligence',\n",
       " '.',\n",
       " 'i',\n",
       " 'must',\n",
       " 'depart',\n",
       " 'complete',\n",
       " 'from',\n",
       " 'the',\n",
       " 'other',\n",
       " 'reviewer',\n",
       " 'who',\n",
       " 'found',\n",
       " 'it',\n",
       " '\"',\n",
       " '...',\n",
       " 'underrated',\n",
       " '...',\n",
       " '\"',\n",
       " 'the',\n",
       " 'critics',\n",
       " 'slammed',\n",
       " 'it',\n",
       " 'at',\n",
       " 'the',\n",
       " 'time',\n",
       " 'and',\n",
       " 'deservedly',\n",
       " 'so',\n",
       " '.',\n",
       " \"you'll\",\n",
       " 'have',\n",
       " 'to',\n",
       " 'catch',\n",
       " 'it',\n",
       " 'on',\n",
       " 'the',\n",
       " 'last',\n",
       " 'show',\n",
       " ',',\n",
       " 'if',\n",
       " 'you',\n",
       " 'up',\n",
       " 'late',\n",
       " 'and',\n",
       " 'having',\n",
       " 'a',\n",
       " 'bout',\n",
       " 'of',\n",
       " 'insomnia',\n",
       " '.',\n",
       " 'but',\n",
       " ',',\n",
       " 'if',\n",
       " 'you',\n",
       " 'can',\n",
       " 'sit',\n",
       " 'through',\n",
       " 'it',\n",
       " ',',\n",
       " \"you've\",\n",
       " 'more',\n",
       " 'fortitude',\n",
       " 'than',\n",
       " 'most',\n",
       " 'of',\n",
       " 'my',\n",
       " 'movie',\n",
       " 'buff',\n",
       " 'friends',\n",
       " '.']"
      ]
     },
     "execution_count": 29,
     "metadata": {},
     "output_type": "execute_result"
    }
   ],
   "source": [
    "tokenizer=TweetTokenizer(preserve_case=False)\n",
    "review_token = tokenizer.tokenize(one_review_tag_removed)\n",
    "review_token"
   ]
  },
  {
   "cell_type": "code",
   "execution_count": 30,
   "id": "a50aac0a",
   "metadata": {},
   "outputs": [
    {
     "data": {
      "text/plain": [
       "['i',\n",
       " 'me',\n",
       " 'my',\n",
       " 'myself',\n",
       " 'we',\n",
       " 'our',\n",
       " 'ours',\n",
       " 'ourselves',\n",
       " 'you',\n",
       " \"you're\",\n",
       " \"you've\",\n",
       " \"you'll\",\n",
       " \"you'd\",\n",
       " 'your',\n",
       " 'yours',\n",
       " 'yourself',\n",
       " 'yourselves',\n",
       " 'he',\n",
       " 'him',\n",
       " 'his',\n",
       " 'himself',\n",
       " 'she',\n",
       " \"she's\",\n",
       " 'her',\n",
       " 'hers',\n",
       " 'herself',\n",
       " 'it',\n",
       " \"it's\",\n",
       " 'its',\n",
       " 'itself',\n",
       " 'they',\n",
       " 'them',\n",
       " 'their',\n",
       " 'theirs',\n",
       " 'themselves',\n",
       " 'what',\n",
       " 'which',\n",
       " 'who',\n",
       " 'whom',\n",
       " 'this',\n",
       " 'that',\n",
       " \"that'll\",\n",
       " 'these',\n",
       " 'those',\n",
       " 'am',\n",
       " 'is',\n",
       " 'are',\n",
       " 'was',\n",
       " 'were',\n",
       " 'be',\n",
       " 'been',\n",
       " 'being',\n",
       " 'have',\n",
       " 'has',\n",
       " 'had',\n",
       " 'having',\n",
       " 'do',\n",
       " 'does',\n",
       " 'did',\n",
       " 'doing',\n",
       " 'a',\n",
       " 'an',\n",
       " 'the',\n",
       " 'and',\n",
       " 'but',\n",
       " 'if',\n",
       " 'or',\n",
       " 'because',\n",
       " 'as',\n",
       " 'until',\n",
       " 'while',\n",
       " 'of',\n",
       " 'at',\n",
       " 'by',\n",
       " 'for',\n",
       " 'with',\n",
       " 'about',\n",
       " 'against',\n",
       " 'between',\n",
       " 'into',\n",
       " 'through',\n",
       " 'during',\n",
       " 'before',\n",
       " 'after',\n",
       " 'above',\n",
       " 'below',\n",
       " 'to',\n",
       " 'from',\n",
       " 'up',\n",
       " 'down',\n",
       " 'in',\n",
       " 'out',\n",
       " 'on',\n",
       " 'off',\n",
       " 'over',\n",
       " 'under',\n",
       " 'again',\n",
       " 'further',\n",
       " 'then',\n",
       " 'once',\n",
       " 'here',\n",
       " 'there',\n",
       " 'when',\n",
       " 'where',\n",
       " 'why',\n",
       " 'how',\n",
       " 'all',\n",
       " 'any',\n",
       " 'both',\n",
       " 'each',\n",
       " 'few',\n",
       " 'more',\n",
       " 'most',\n",
       " 'other',\n",
       " 'some',\n",
       " 'such',\n",
       " 'no',\n",
       " 'nor',\n",
       " 'not',\n",
       " 'only',\n",
       " 'own',\n",
       " 'same',\n",
       " 'so',\n",
       " 'than',\n",
       " 'too',\n",
       " 'very',\n",
       " 's',\n",
       " 't',\n",
       " 'can',\n",
       " 'will',\n",
       " 'just',\n",
       " 'don',\n",
       " \"don't\",\n",
       " 'should',\n",
       " \"should've\",\n",
       " 'now',\n",
       " 'd',\n",
       " 'll',\n",
       " 'm',\n",
       " 'o',\n",
       " 're',\n",
       " 've',\n",
       " 'y',\n",
       " 'ain',\n",
       " 'aren',\n",
       " \"aren't\",\n",
       " 'couldn',\n",
       " \"couldn't\",\n",
       " 'didn',\n",
       " \"didn't\",\n",
       " 'doesn',\n",
       " \"doesn't\",\n",
       " 'hadn',\n",
       " \"hadn't\",\n",
       " 'hasn',\n",
       " \"hasn't\",\n",
       " 'haven',\n",
       " \"haven't\",\n",
       " 'isn',\n",
       " \"isn't\",\n",
       " 'ma',\n",
       " 'mightn',\n",
       " \"mightn't\",\n",
       " 'mustn',\n",
       " \"mustn't\",\n",
       " 'needn',\n",
       " \"needn't\",\n",
       " 'shan',\n",
       " \"shan't\",\n",
       " 'shouldn',\n",
       " \"shouldn't\",\n",
       " 'wasn',\n",
       " \"wasn't\",\n",
       " 'weren',\n",
       " \"weren't\",\n",
       " 'won',\n",
       " \"won't\",\n",
       " 'wouldn',\n",
       " \"wouldn't\"]"
      ]
     },
     "execution_count": 30,
     "metadata": {},
     "output_type": "execute_result"
    }
   ],
   "source": [
    "stopwords_e = stopwords.words('english')\n",
    "stopwords_e"
   ]
  },
  {
   "cell_type": "code",
   "execution_count": 31,
   "id": "92c00f34",
   "metadata": {},
   "outputs": [
    {
     "data": {
      "text/plain": [
       "['mercifully',\n",
       " \"there's\",\n",
       " 'video',\n",
       " 'wannabe',\n",
       " 'western',\n",
       " 'stay-afloat',\n",
       " 'vehicle',\n",
       " 'big',\n",
       " 'frank',\n",
       " 'time',\n",
       " 'career',\n",
       " 'floundering',\n",
       " 'story',\n",
       " 'weasel',\n",
       " 'lives',\n",
       " 'reputation',\n",
       " 'big',\n",
       " 'gun',\n",
       " 'brother',\n",
       " 'gets',\n",
       " 'run',\n",
       " 'town',\n",
       " 'bad',\n",
       " 'guys',\n",
       " 'return',\n",
       " 'rally',\n",
       " 'townfolks',\n",
       " 'new',\n",
       " 'found',\n",
       " 'courage',\n",
       " 'must',\n",
       " 'written',\n",
       " 'back-room',\n",
       " 'writer',\n",
       " 'show',\n",
       " 'stinks',\n",
       " 'story',\n",
       " 'basically',\n",
       " 'boring',\n",
       " 'ill-conceived',\n",
       " 'naive',\n",
       " 'offend',\n",
       " 'intelligence',\n",
       " 'must',\n",
       " 'depart',\n",
       " 'complete',\n",
       " 'reviewer',\n",
       " 'found',\n",
       " '...',\n",
       " 'underrated',\n",
       " '...',\n",
       " 'critics',\n",
       " 'slammed',\n",
       " 'time',\n",
       " 'deservedly',\n",
       " 'catch',\n",
       " 'last',\n",
       " 'show',\n",
       " 'late',\n",
       " 'bout',\n",
       " 'insomnia',\n",
       " 'sit',\n",
       " 'fortitude',\n",
       " 'movie',\n",
       " 'buff',\n",
       " 'friends']"
      ]
     },
     "execution_count": 31,
     "metadata": {},
     "output_type": "execute_result"
    }
   ],
   "source": [
    "review_clean=[]\n",
    "for word in review_token:\n",
    "    if(word not in stopwords_e and word not in string.punctuation):\n",
    "        review_clean.append(word)\n",
    "review_clean"
   ]
  },
  {
   "cell_type": "code",
   "execution_count": 33,
   "id": "094ec630",
   "metadata": {},
   "outputs": [
    {
     "name": "stdout",
     "output_type": "stream",
     "text": [
      "Stemmed Review: ['merci', \"there'\", 'video', 'wannab', 'western', 'stay-afloat', 'vehicl', 'big', 'frank', 'time', 'career', 'flounder', 'stori', 'weasel', 'live', 'reput', 'big', 'gun', 'brother', 'get', 'run', 'town', 'bad', 'guy', 'return', 'ralli', 'townfolk', 'new', 'found', 'courag', 'must', 'written', 'back-room', 'writer', 'show', 'stink', 'stori', 'basic', 'bore', 'ill-conceiv', 'naiv', 'offend', 'intellig', 'must', 'depart', 'complet', 'review', 'found', '...', 'underr', '...', 'critic', 'slam', 'time', 'deservedli', 'catch', 'last', 'show', 'late', 'bout', 'insomnia', 'sit', 'fortitud', 'movi', 'buff', 'friend']\n"
     ]
    }
   ],
   "source": [
    "stemmer=PorterStemmer()\n",
    "review_stemmed = []\n",
    "\n",
    "for word in review_clean:\n",
    "    stemmed  = stemmer.stem(word)\n",
    "    review_stemmed.append(stemmed)\n",
    "print(f'Stemmed Review: {review_stemmed}')"
   ]
  },
  {
   "cell_type": "code",
   "execution_count": null,
   "id": "8d8b7301",
   "metadata": {},
   "outputs": [],
   "source": []
  }
 ],
 "metadata": {
  "kernelspec": {
   "display_name": "Python 3",
   "language": "python",
   "name": "python3"
  },
  "language_info": {
   "codemirror_mode": {
    "name": "ipython",
    "version": 3
   },
   "file_extension": ".py",
   "mimetype": "text/x-python",
   "name": "python",
   "nbconvert_exporter": "python",
   "pygments_lexer": "ipython3",
   "version": "3.8.10"
  }
 },
 "nbformat": 4,
 "nbformat_minor": 5
}
